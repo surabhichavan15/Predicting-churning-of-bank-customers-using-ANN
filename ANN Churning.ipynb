{
 "cells": [
  {
   "cell_type": "code",
   "execution_count": 76,
   "metadata": {
    "colab": {
     "base_uri": "https://localhost:8080/"
    },
    "id": "KMQO-lpC6lgI",
    "outputId": "827b8b09-d838-4a44-d3e5-3b7a4ba63413"
   },
   "outputs": [
    {
     "name": "stdout",
     "output_type": "stream",
     "text": [
      "Requirement already satisfied: tensorflow-gpu in c:\\users\\surab\\anaconda3\\lib\\site-packages (2.9.1)\n",
      "Requirement already satisfied: astunparse>=1.6.0 in c:\\users\\surab\\anaconda3\\lib\\site-packages (from tensorflow-gpu) (1.6.3)\n",
      "Requirement already satisfied: keras<2.10.0,>=2.9.0rc0 in c:\\users\\surab\\anaconda3\\lib\\site-packages (from tensorflow-gpu) (2.9.0)\n",
      "Requirement already satisfied: flatbuffers<2,>=1.12 in c:\\users\\surab\\anaconda3\\lib\\site-packages (from tensorflow-gpu) (1.12)\n",
      "Requirement already satisfied: tensorflow-estimator<2.10.0,>=2.9.0rc0 in c:\\users\\surab\\anaconda3\\lib\\site-packages (from tensorflow-gpu) (2.9.0)\n",
      "Requirement already satisfied: typing-extensions>=3.6.6 in c:\\users\\surab\\anaconda3\\lib\\site-packages (from tensorflow-gpu) (3.7.4.3)\n",
      "Requirement already satisfied: grpcio<2.0,>=1.24.3 in c:\\users\\surab\\anaconda3\\lib\\site-packages (from tensorflow-gpu) (1.44.0)\n",
      "Requirement already satisfied: wrapt>=1.11.0 in c:\\users\\surab\\anaconda3\\lib\\site-packages (from tensorflow-gpu) (1.11.2)\n",
      "Requirement already satisfied: six>=1.12.0 in c:\\users\\surab\\anaconda3\\lib\\site-packages (from tensorflow-gpu) (1.15.0)\n",
      "Requirement already satisfied: termcolor>=1.1.0 in c:\\users\\surab\\anaconda3\\lib\\site-packages (from tensorflow-gpu) (1.1.0)\n",
      "Requirement already satisfied: gast<=0.4.0,>=0.2.1 in c:\\users\\surab\\anaconda3\\lib\\site-packages (from tensorflow-gpu) (0.4.0)\n",
      "Requirement already satisfied: tensorboard<2.10,>=2.9 in c:\\users\\surab\\anaconda3\\lib\\site-packages (from tensorflow-gpu) (2.9.1)\n",
      "Requirement already satisfied: opt-einsum>=2.3.2 in c:\\users\\surab\\anaconda3\\lib\\site-packages (from tensorflow-gpu) (3.3.0)\n",
      "Requirement already satisfied: protobuf<3.20,>=3.9.2 in c:\\users\\surab\\anaconda3\\lib\\site-packages (from tensorflow-gpu) (3.15.6)\n",
      "Requirement already satisfied: google-pasta>=0.1.1 in c:\\users\\surab\\anaconda3\\lib\\site-packages (from tensorflow-gpu) (0.2.0)\n",
      "Requirement already satisfied: packaging in c:\\users\\surab\\anaconda3\\lib\\site-packages (from tensorflow-gpu) (20.4)\n",
      "Requirement already satisfied: keras-preprocessing>=1.1.1 in c:\\users\\surab\\anaconda3\\lib\\site-packages (from tensorflow-gpu) (1.1.2)\n",
      "Requirement already satisfied: setuptools in c:\\users\\surab\\anaconda3\\lib\\site-packages (from tensorflow-gpu) (50.3.1.post20201107)\n",
      "Requirement already satisfied: libclang>=13.0.0 in c:\\users\\surab\\anaconda3\\lib\\site-packages (from tensorflow-gpu) (13.0.0)\n",
      "Requirement already satisfied: numpy>=1.20 in c:\\users\\surab\\anaconda3\\lib\\site-packages (from tensorflow-gpu) (1.22.3)\n",
      "Requirement already satisfied: tensorflow-io-gcs-filesystem>=0.23.1 in c:\\users\\surab\\anaconda3\\lib\\site-packages (from tensorflow-gpu) (0.24.0)\n",
      "Requirement already satisfied: absl-py>=1.0.0 in c:\\users\\surab\\anaconda3\\lib\\site-packages (from tensorflow-gpu) (1.0.0)\n",
      "Requirement already satisfied: h5py>=2.9.0 in c:\\users\\surab\\anaconda3\\lib\\site-packages (from tensorflow-gpu) (2.10.0)\n",
      "Requirement already satisfied: wheel<1.0,>=0.23.0 in c:\\users\\surab\\anaconda3\\lib\\site-packages (from astunparse>=1.6.0->tensorflow-gpu) (0.35.1)\n",
      "Requirement already satisfied: tensorboard-plugin-wit>=1.6.0 in c:\\users\\surab\\anaconda3\\lib\\site-packages (from tensorboard<2.10,>=2.9->tensorflow-gpu) (1.8.1)\n",
      "Requirement already satisfied: google-auth<3,>=1.6.3 in c:\\users\\surab\\anaconda3\\lib\\site-packages (from tensorboard<2.10,>=2.9->tensorflow-gpu) (2.6.5)\n",
      "Requirement already satisfied: markdown>=2.6.8 in c:\\users\\surab\\anaconda3\\lib\\site-packages (from tensorboard<2.10,>=2.9->tensorflow-gpu) (3.3.6)\n",
      "Requirement already satisfied: werkzeug>=1.0.1 in c:\\users\\surab\\anaconda3\\lib\\site-packages (from tensorboard<2.10,>=2.9->tensorflow-gpu) (1.0.1)\n",
      "Requirement already satisfied: google-auth-oauthlib<0.5,>=0.4.1 in c:\\users\\surab\\anaconda3\\lib\\site-packages (from tensorboard<2.10,>=2.9->tensorflow-gpu) (0.4.6)\n",
      "Requirement already satisfied: tensorboard-data-server<0.7.0,>=0.6.0 in c:\\users\\surab\\anaconda3\\lib\\site-packages (from tensorboard<2.10,>=2.9->tensorflow-gpu) (0.6.1)\n",
      "Requirement already satisfied: requests<3,>=2.21.0 in c:\\users\\surab\\anaconda3\\lib\\site-packages (from tensorboard<2.10,>=2.9->tensorflow-gpu) (2.24.0)\n",
      "Requirement already satisfied: pyparsing>=2.0.2 in c:\\users\\surab\\anaconda3\\lib\\site-packages (from packaging->tensorflow-gpu) (2.4.7)\n",
      "Requirement already satisfied: rsa<5,>=3.1.4; python_version >= \"3.6\" in c:\\users\\surab\\anaconda3\\lib\\site-packages (from google-auth<3,>=1.6.3->tensorboard<2.10,>=2.9->tensorflow-gpu) (4.8)\n",
      "Requirement already satisfied: pyasn1-modules>=0.2.1 in c:\\users\\surab\\anaconda3\\lib\\site-packages (from google-auth<3,>=1.6.3->tensorboard<2.10,>=2.9->tensorflow-gpu) (0.2.8)\n",
      "Requirement already satisfied: cachetools<6.0,>=2.0.0 in c:\\users\\surab\\anaconda3\\lib\\site-packages (from google-auth<3,>=1.6.3->tensorboard<2.10,>=2.9->tensorflow-gpu) (5.0.0)\n",
      "Requirement already satisfied: importlib-metadata>=4.4; python_version < \"3.10\" in c:\\users\\surab\\anaconda3\\lib\\site-packages (from markdown>=2.6.8->tensorboard<2.10,>=2.9->tensorflow-gpu) (4.11.3)\n",
      "Requirement already satisfied: requests-oauthlib>=0.7.0 in c:\\users\\surab\\anaconda3\\lib\\site-packages (from google-auth-oauthlib<0.5,>=0.4.1->tensorboard<2.10,>=2.9->tensorflow-gpu) (1.3.1)\n",
      "Requirement already satisfied: chardet<4,>=3.0.2 in c:\\users\\surab\\anaconda3\\lib\\site-packages (from requests<3,>=2.21.0->tensorboard<2.10,>=2.9->tensorflow-gpu) (3.0.4)\n",
      "Requirement already satisfied: certifi>=2017.4.17 in c:\\users\\surab\\anaconda3\\lib\\site-packages (from requests<3,>=2.21.0->tensorboard<2.10,>=2.9->tensorflow-gpu) (2020.6.20)\n",
      "Requirement already satisfied: urllib3!=1.25.0,!=1.25.1,<1.26,>=1.21.1 in c:\\users\\surab\\anaconda3\\lib\\site-packages (from requests<3,>=2.21.0->tensorboard<2.10,>=2.9->tensorflow-gpu) (1.25.11)\n",
      "Requirement already satisfied: idna<3,>=2.5 in c:\\users\\surab\\anaconda3\\lib\\site-packages (from requests<3,>=2.21.0->tensorboard<2.10,>=2.9->tensorflow-gpu) (2.10)\n",
      "Requirement already satisfied: pyasn1>=0.1.3 in c:\\users\\surab\\anaconda3\\lib\\site-packages (from rsa<5,>=3.1.4; python_version >= \"3.6\"->google-auth<3,>=1.6.3->tensorboard<2.10,>=2.9->tensorflow-gpu) (0.4.8)\n",
      "Requirement already satisfied: zipp>=0.5 in c:\\users\\surab\\anaconda3\\lib\\site-packages (from importlib-metadata>=4.4; python_version < \"3.10\"->markdown>=2.6.8->tensorboard<2.10,>=2.9->tensorflow-gpu) (3.4.0)\n",
      "Requirement already satisfied: oauthlib>=3.0.0 in c:\\users\\surab\\anaconda3\\lib\\site-packages (from requests-oauthlib>=0.7.0->google-auth-oauthlib<0.5,>=0.4.1->tensorboard<2.10,>=2.9->tensorflow-gpu) (3.2.0)\n"
     ]
    }
   ],
   "source": [
    "!pip install tensorflow-gpu\n"
   ]
  },
  {
   "cell_type": "code",
   "execution_count": 119,
   "metadata": {
    "id": "D2IliGyI62B0"
   },
   "outputs": [],
   "source": [
    "import tensorflow as tf"
   ]
  },
  {
   "cell_type": "code",
   "execution_count": 120,
   "metadata": {
    "colab": {
     "base_uri": "https://localhost:8080/"
    },
    "id": "4_fyxUHb7GuH",
    "outputId": "2c8a495d-cff8-49f1-b9c2-fa63165b0043"
   },
   "outputs": [
    {
     "name": "stdout",
     "output_type": "stream",
     "text": [
      "2.9.1\n"
     ]
    }
   ],
   "source": [
    "print(tf.__version__)"
   ]
  },
  {
   "cell_type": "code",
   "execution_count": 121,
   "metadata": {
    "id": "LLvV2K-o7KAp"
   },
   "outputs": [],
   "source": [
    "# Importing the libraries\n",
    "import numpy as np\n",
    "import matplotlib.pyplot as plt\n",
    "import pandas as pd"
   ]
  },
  {
   "cell_type": "code",
   "execution_count": 122,
   "metadata": {
    "id": "gHRHobkK7Sxn"
   },
   "outputs": [],
   "source": [
    "# Importing the dataset\n",
    "dataset = pd.read_csv('C:\\TD\\Sem 2\\Personal projects\\ANN- Churning\\Churn_Modelling.csv')\n",
    "X = dataset.iloc[:, 3:13]\n",
    "y = dataset.iloc[:, 13]"
   ]
  },
  {
   "cell_type": "code",
   "execution_count": 123,
   "metadata": {
    "id": "T2yS0VL67Ufn"
   },
   "outputs": [],
   "source": [
    "#Create dummy variables\n",
    "geography=pd.get_dummies(X[\"Geography\"],drop_first=True)\n",
    "gender=pd.get_dummies(X['Gender'],drop_first=True)"
   ]
  },
  {
   "cell_type": "code",
   "execution_count": 124,
   "metadata": {
    "id": "Co2rxaFR7Wgo"
   },
   "outputs": [],
   "source": [
    "## Concatenate the Data Frames\n",
    "\n",
    "X=pd.concat([X,geography,gender],axis=1)\n",
    "\n",
    "## Drop Unnecessary columns\n",
    "X=X.drop(['Geography','Gender'],axis=1)\n",
    "\n",
    "# Splitting the dataset into the Training set and Test set\n",
    "from sklearn.model_selection import train_test_split\n",
    "X_train, X_test, y_train, y_test = train_test_split(X, y, test_size = 0.2, random_state = 0)\n"
   ]
  },
  {
   "cell_type": "code",
   "execution_count": 125,
   "metadata": {
    "id": "GNZrZXy37ZLs"
   },
   "outputs": [],
   "source": [
    "# Feature Scaling\n",
    "from sklearn.preprocessing import StandardScaler\n",
    "sc = StandardScaler()\n",
    "X_train = sc.fit_transform(X_train)\n",
    "X_test = sc.transform(X_test)\n"
   ]
  },
  {
   "cell_type": "code",
   "execution_count": 126,
   "metadata": {
    "id": "uwN3bgie7bvT"
   },
   "outputs": [],
   "source": [
    "# Part 2 - Now let's make the ANN!"
   ]
  },
  {
   "cell_type": "code",
   "execution_count": 127,
   "metadata": {
    "id": "rL_a7vWu7dj1"
   },
   "outputs": [],
   "source": [
    "from tensorflow.keras.models import Sequential\n",
    "from tensorflow.keras.layers import Dense\n",
    "from tensorflow.keras.layers import LeakyReLU,PReLU,ELU\n",
    "from tensorflow.keras.layers import Dropout\n"
   ]
  },
  {
   "cell_type": "code",
   "execution_count": 128,
   "metadata": {
    "id": "VDJwvrbZ7kj4"
   },
   "outputs": [],
   "source": [
    "# Initialising the ANN\n",
    "classifier = Sequential()"
   ]
  },
  {
   "cell_type": "code",
   "execution_count": 129,
   "metadata": {
    "id": "RSZQrU-g7z4N"
   },
   "outputs": [],
   "source": [
    "# Adding the input layer and the ip layer\n",
    "classifier.add(Dense(units=11,activation='relu'))"
   ]
  },
  {
   "cell_type": "code",
   "execution_count": 130,
   "metadata": {
    "id": "byszZMvw8RcQ"
   },
   "outputs": [],
   "source": [
    "# Adding the input layer and the first hidden layer\n",
    "classifier.add(Dense(units=7,activation='relu'))"
   ]
  },
  {
   "cell_type": "code",
   "execution_count": 131,
   "metadata": {
    "id": "Mk2slmAX8XUI"
   },
   "outputs": [],
   "source": [
    "# Adding the input layer and the second hidden layer\n",
    "classifier.add(Dense(units=6,activation='relu'))"
   ]
  },
  {
   "cell_type": "code",
   "execution_count": 132,
   "metadata": {},
   "outputs": [],
   "source": [
    "# Adding the output layer\n",
    "classifier.add(Dense(1,activation='sigmoid'))"
   ]
  },
  {
   "cell_type": "code",
   "execution_count": 133,
   "metadata": {
    "id": "F2udThHo8cFt"
   },
   "outputs": [],
   "source": [
    "classifier.compile(optimizer='adam',loss='binary_crossentropy',metrics=['accuracy'])"
   ]
  },
  {
   "cell_type": "code",
   "execution_count": 134,
   "metadata": {},
   "outputs": [],
   "source": [
    "import tensorflow\n",
    "opt=tensorflow.keras.optimizers.Adam(learning_rate=0.01)"
   ]
  },
  {
   "cell_type": "code",
   "execution_count": 135,
   "metadata": {
    "colab": {
     "base_uri": "https://localhost:8080/"
    },
    "id": "3qairJAs8fIc",
    "outputId": "0730a4ec-193f-41ae-daff-4ccc7673b142"
   },
   "outputs": [
    {
     "name": "stdout",
     "output_type": "stream",
     "text": [
      "Epoch 1/50\n",
      "536/536 [==============================] - 6s 7ms/step - loss: 0.5014 - accuracy: 0.7888 - val_loss: 0.4550 - val_accuracy: 0.7967\n",
      "Epoch 2/50\n",
      "536/536 [==============================] - 3s 6ms/step - loss: 0.4349 - accuracy: 0.8099 - val_loss: 0.4356 - val_accuracy: 0.8111\n",
      "Epoch 3/50\n",
      "536/536 [==============================] - 3s 6ms/step - loss: 0.4172 - accuracy: 0.8201 - val_loss: 0.4242 - val_accuracy: 0.8190\n",
      "Epoch 4/50\n",
      "536/536 [==============================] - 3s 6ms/step - loss: 0.4034 - accuracy: 0.8300 - val_loss: 0.4129 - val_accuracy: 0.8258\n",
      "Epoch 5/50\n",
      "536/536 [==============================] - 3s 6ms/step - loss: 0.3895 - accuracy: 0.8412 - val_loss: 0.3992 - val_accuracy: 0.8319\n",
      "Epoch 6/50\n",
      "536/536 [==============================] - 3s 6ms/step - loss: 0.3745 - accuracy: 0.8470 - val_loss: 0.3881 - val_accuracy: 0.8364\n",
      "Epoch 7/50\n",
      "536/536 [==============================] - 4s 7ms/step - loss: 0.3629 - accuracy: 0.8520 - val_loss: 0.3802 - val_accuracy: 0.8421\n",
      "Epoch 8/50\n",
      "536/536 [==============================] - 3s 6ms/step - loss: 0.3543 - accuracy: 0.8554 - val_loss: 0.3749 - val_accuracy: 0.8432\n",
      "Epoch 9/50\n",
      "536/536 [==============================] - 3s 6ms/step - loss: 0.3481 - accuracy: 0.8571 - val_loss: 0.3715 - val_accuracy: 0.8448\n",
      "Epoch 10/50\n",
      "536/536 [==============================] - 3s 6ms/step - loss: 0.3446 - accuracy: 0.8589 - val_loss: 0.3683 - val_accuracy: 0.8485\n",
      "Epoch 11/50\n",
      "536/536 [==============================] - 3s 5ms/step - loss: 0.3428 - accuracy: 0.8612 - val_loss: 0.3684 - val_accuracy: 0.8489\n",
      "Epoch 12/50\n",
      "536/536 [==============================] - 3s 5ms/step - loss: 0.3405 - accuracy: 0.8602 - val_loss: 0.3664 - val_accuracy: 0.8519\n",
      "Epoch 13/50\n",
      "536/536 [==============================] - 3s 5ms/step - loss: 0.3386 - accuracy: 0.8599 - val_loss: 0.3659 - val_accuracy: 0.8504\n",
      "Epoch 14/50\n",
      "536/536 [==============================] - 3s 5ms/step - loss: 0.3373 - accuracy: 0.8617 - val_loss: 0.3648 - val_accuracy: 0.8489\n",
      "Epoch 15/50\n",
      "536/536 [==============================] - 3s 5ms/step - loss: 0.3365 - accuracy: 0.8642 - val_loss: 0.3630 - val_accuracy: 0.8501\n",
      "Epoch 16/50\n",
      "536/536 [==============================] - 4s 7ms/step - loss: 0.3356 - accuracy: 0.8651 - val_loss: 0.3632 - val_accuracy: 0.8516\n",
      "Epoch 17/50\n",
      "536/536 [==============================] - 4s 7ms/step - loss: 0.3347 - accuracy: 0.8642 - val_loss: 0.3635 - val_accuracy: 0.8489\n",
      "Epoch 18/50\n",
      "536/536 [==============================] - 3s 6ms/step - loss: 0.3334 - accuracy: 0.8621 - val_loss: 0.3644 - val_accuracy: 0.8504\n",
      "Epoch 19/50\n",
      "536/536 [==============================] - 4s 7ms/step - loss: 0.3332 - accuracy: 0.8640 - val_loss: 0.3615 - val_accuracy: 0.8497\n",
      "Epoch 20/50\n",
      "536/536 [==============================] - 3s 6ms/step - loss: 0.3320 - accuracy: 0.8655 - val_loss: 0.3611 - val_accuracy: 0.8535\n",
      "Epoch 21/50\n",
      "536/536 [==============================] - 3s 6ms/step - loss: 0.3316 - accuracy: 0.8651 - val_loss: 0.3634 - val_accuracy: 0.8489\n",
      "Epoch 22/50\n",
      "536/536 [==============================] - 4s 7ms/step - loss: 0.3314 - accuracy: 0.8651 - val_loss: 0.3654 - val_accuracy: 0.8519\n",
      "Epoch 23/50\n",
      "536/536 [==============================] - 3s 6ms/step - loss: 0.3309 - accuracy: 0.8643 - val_loss: 0.3607 - val_accuracy: 0.8501\n",
      "Epoch 24/50\n",
      "536/536 [==============================] - 4s 7ms/step - loss: 0.3311 - accuracy: 0.8630 - val_loss: 0.3627 - val_accuracy: 0.8485\n",
      "Epoch 25/50\n",
      "536/536 [==============================] - 3s 6ms/step - loss: 0.3310 - accuracy: 0.8632 - val_loss: 0.3619 - val_accuracy: 0.8501\n",
      "Epoch 26/50\n",
      "536/536 [==============================] - 3s 6ms/step - loss: 0.3297 - accuracy: 0.8643 - val_loss: 0.3610 - val_accuracy: 0.8523\n",
      "Epoch 27/50\n",
      "536/536 [==============================] - 3s 6ms/step - loss: 0.3292 - accuracy: 0.8619 - val_loss: 0.3621 - val_accuracy: 0.8485\n",
      "Epoch 28/50\n",
      "536/536 [==============================] - 4s 7ms/step - loss: 0.3292 - accuracy: 0.8636 - val_loss: 0.3602 - val_accuracy: 0.8497\n",
      "Epoch 29/50\n",
      "536/536 [==============================] - 3s 7ms/step - loss: 0.3288 - accuracy: 0.8653 - val_loss: 0.3624 - val_accuracy: 0.8493\n",
      "Epoch 30/50\n",
      "536/536 [==============================] - 3s 6ms/step - loss: 0.3287 - accuracy: 0.8636 - val_loss: 0.3599 - val_accuracy: 0.8561\n",
      "Epoch 31/50\n",
      "536/536 [==============================] - 3s 6ms/step - loss: 0.3279 - accuracy: 0.8638 - val_loss: 0.3602 - val_accuracy: 0.8519\n",
      "Epoch 32/50\n",
      "536/536 [==============================] - 3s 6ms/step - loss: 0.3276 - accuracy: 0.8645 - val_loss: 0.3621 - val_accuracy: 0.8512\n",
      "Epoch 33/50\n",
      "536/536 [==============================] - 3s 6ms/step - loss: 0.3279 - accuracy: 0.8642 - val_loss: 0.3614 - val_accuracy: 0.8508\n",
      "Epoch 34/50\n",
      "536/536 [==============================] - 3s 6ms/step - loss: 0.3270 - accuracy: 0.8634 - val_loss: 0.3618 - val_accuracy: 0.8497\n",
      "Epoch 35/50\n",
      "536/536 [==============================] - 3s 6ms/step - loss: 0.3268 - accuracy: 0.8628 - val_loss: 0.3623 - val_accuracy: 0.8497\n",
      "Epoch 36/50\n",
      "536/536 [==============================] - 3s 6ms/step - loss: 0.3270 - accuracy: 0.8627 - val_loss: 0.3601 - val_accuracy: 0.8512\n",
      "Epoch 37/50\n",
      "536/536 [==============================] - 3s 6ms/step - loss: 0.3270 - accuracy: 0.8636 - val_loss: 0.3606 - val_accuracy: 0.8523\n",
      "Epoch 38/50\n",
      "536/536 [==============================] - 3s 6ms/step - loss: 0.3259 - accuracy: 0.8625 - val_loss: 0.3650 - val_accuracy: 0.8474\n",
      "Epoch 39/50\n",
      "536/536 [==============================] - 3s 6ms/step - loss: 0.3260 - accuracy: 0.8619 - val_loss: 0.3640 - val_accuracy: 0.8501\n",
      "Epoch 40/50\n",
      "536/536 [==============================] - 3s 6ms/step - loss: 0.3247 - accuracy: 0.8630 - val_loss: 0.3635 - val_accuracy: 0.8474\n",
      "Epoch 41/50\n",
      "536/536 [==============================] - 3s 6ms/step - loss: 0.3249 - accuracy: 0.8640 - val_loss: 0.3608 - val_accuracy: 0.8493\n",
      "Epoch 42/50\n",
      "536/536 [==============================] - 4s 7ms/step - loss: 0.3246 - accuracy: 0.8634 - val_loss: 0.3600 - val_accuracy: 0.8523\n",
      "Epoch 43/50\n",
      "536/536 [==============================] - 3s 5ms/step - loss: 0.3244 - accuracy: 0.8636 - val_loss: 0.3594 - val_accuracy: 0.8504\n",
      "Epoch 44/50\n",
      "536/536 [==============================] - 3s 6ms/step - loss: 0.3238 - accuracy: 0.8632 - val_loss: 0.3619 - val_accuracy: 0.8512\n",
      "Epoch 45/50\n",
      "536/536 [==============================] - 3s 6ms/step - loss: 0.3243 - accuracy: 0.8623 - val_loss: 0.3613 - val_accuracy: 0.8459\n",
      "Epoch 46/50\n",
      "536/536 [==============================] - 3s 6ms/step - loss: 0.3229 - accuracy: 0.8642 - val_loss: 0.3616 - val_accuracy: 0.8459\n",
      "Epoch 47/50\n",
      "536/536 [==============================] - 3s 5ms/step - loss: 0.3227 - accuracy: 0.8673 - val_loss: 0.3634 - val_accuracy: 0.8493\n",
      "Epoch 48/50\n",
      "536/536 [==============================] - 3s 6ms/step - loss: 0.3231 - accuracy: 0.8621 - val_loss: 0.3614 - val_accuracy: 0.8478\n",
      "Epoch 49/50\n",
      "536/536 [==============================] - 3s 6ms/step - loss: 0.3219 - accuracy: 0.8642 - val_loss: 0.3599 - val_accuracy: 0.8497\n",
      "Epoch 50/50\n",
      "536/536 [==============================] - 3s 6ms/step - loss: 0.3227 - accuracy: 0.8653 - val_loss: 0.3600 - val_accuracy: 0.8485\n"
     ]
    }
   ],
   "source": [
    "model_history=classifier.fit(X_train,y_train,validation_split=0.33,batch_size=10,epochs=50)"
   ]
  },
  {
   "cell_type": "code",
   "execution_count": 139,
   "metadata": {
    "colab": {
     "base_uri": "https://localhost:8080/"
    },
    "id": "Q9t_M4wICTTz",
    "outputId": "18fa935a-8009-407f-de61-7f6a83669624"
   },
   "outputs": [
    {
     "name": "stdout",
     "output_type": "stream",
     "text": [
      "dict_keys(['loss', 'accuracy', 'val_loss', 'val_accuracy'])\n"
     ]
    }
   ],
   "source": [
    "# list all data in history\n",
    "\n",
    "print(model_history.history.keys())"
   ]
  },
  {
   "cell_type": "code",
   "execution_count": 140,
   "metadata": {
    "colab": {
     "base_uri": "https://localhost:8080/",
     "height": 295
    },
    "id": "MMOyiwzgBlLY",
    "outputId": "aeb29600-3c1f-41aa-9e29-05acf6011ed8"
   },
   "outputs": [
    {
     "data": {
      "image/png": "[encoded data removed]",
      "text/plain": [
       "<Figure size 432x288 with 1 Axes>"
      ]
     },
     "metadata": {
      "needs_background": "light"
     },
     "output_type": "display_data"
    }
   ],
   "source": [
    "\n",
    "# summarize history for accuracy\n",
    "plt.plot(model_history.history['accuracy'])\n",
    "plt.plot(model_history.history['val_accuracy'])\n",
    "plt.title('model accuracy')\n",
    "plt.ylabel('accuracy')\n",
    "plt.xlabel('epoch')\n",
    "plt.legend(['train', 'test'], loc='upper left')\n",
    "plt.show()"
   ]
  },
  {
   "cell_type": "code",
   "execution_count": 141,
   "metadata": {
    "colab": {
     "base_uri": "https://localhost:8080/",
     "height": 295
    },
    "id": "QH141RsQCEr0",
    "outputId": "4566dca0-b002-4f59-b6e8-f8654b414283"
   },
   "outputs": [
    {
     "data": {
      "image/png": "[encoded data removed]",
      "text/plain": [
       "<Figure size 432x288 with 1 Axes>"
      ]
     },
     "metadata": {
      "needs_background": "light"
     },
     "output_type": "display_data"
    }
   ],
   "source": [
    "# summarize history for loss\n",
    "plt.plot(model_history.history['loss'])\n",
    "plt.plot(model_history.history['val_loss'])\n",
    "plt.title('model loss')\n",
    "plt.ylabel('loss')\n",
    "plt.xlabel('epoch')\n",
    "plt.legend(['train', 'test'], loc='upper left')\n",
    "plt.show()"
   ]
  },
  {
   "cell_type": "code",
   "execution_count": 142,
   "metadata": {
    "id": "OYqCIIkDCd8S"
   },
   "outputs": [
    {
     "name": "stdout",
     "output_type": "stream",
     "text": [
      "63/63 [==============================] - 0s 2ms/step\n"
     ]
    }
   ],
   "source": [
    "# Part 3 - Making the predictions and evaluating the model\n",
    "\n",
    "# Predicting the Test set results\n",
    "y_pred = classifier.predict(X_test)\n",
    "y_pred = (y_pred > 0.5)"
   ]
  },
  {
   "cell_type": "code",
   "execution_count": 143,
   "metadata": {
    "colab": {
     "base_uri": "https://localhost:8080/"
    },
    "id": "cm3EeOGTCi3-",
    "outputId": "f3cfe210-0811-4c4e-ce72-4100b32bb79f"
   },
   "outputs": [
    {
     "data": {
      "text/plain": [
       "array([[1506,   89],\n",
       "       [ 200,  205]], dtype=int64)"
      ]
     },
     "execution_count": 143,
     "metadata": {},
     "output_type": "execute_result"
    }
   ],
   "source": [
    "# Making the Confusion Matrix\n",
    "from sklearn.metrics import confusion_matrix\n",
    "cm = confusion_matrix(y_test, y_pred)\n",
    "cm"
   ]
  },
  {
   "cell_type": "code",
   "execution_count": 144,
   "metadata": {
    "id": "FgfRKzzOClmP"
   },
   "outputs": [],
   "source": [
    "# Calculate the Accuracy\n",
    "from sklearn.metrics import accuracy_score\n",
    "score=accuracy_score(y_pred,y_test)"
   ]
  },
  {
   "cell_type": "code",
   "execution_count": 145,
   "metadata": {
    "colab": {
     "base_uri": "https://localhost:8080/"
    },
    "id": "a_C5EETrCpSj",
    "outputId": "6e495c58-0149-453b-b0d6-592606fe5c80"
   },
   "outputs": [
    {
     "data": {
      "text/plain": [
       "0.8555"
      ]
     },
     "execution_count": 145,
     "metadata": {},
     "output_type": "execute_result"
    }
   ],
   "source": [
    "score"
   ]
  },
  {
   "cell_type": "code",
   "execution_count": 146,
   "metadata": {
    "id": "UTvHAjYWCqWx"
   },
   "outputs": [
    {
     "data": {
      "text/plain": [
       "[array([[ 0.18724811, -0.15816675,  0.408442  , -0.06326337, -0.02943089,\n",
       "          0.1636013 ,  0.02698375,  0.02732697,  0.23436877, -0.08798909,\n",
       "          0.0502544 ],\n",
       "        [-0.79693055,  0.7042001 ,  0.06164136, -1.1425735 , -1.0062648 ,\n",
       "         -0.79716533,  0.48055124,  0.10285692,  0.5985047 , -0.16571426,\n",
       "          0.5272659 ],\n",
       "        [-0.15246488,  0.03204144, -0.77534753,  0.47171098, -0.18992329,\n",
       "         -0.04469397, -0.14549395, -0.02569569,  0.21282877, -0.30479994,\n",
       "         -0.04098678],\n",
       "        [ 0.00566938, -0.15743229,  0.07847911,  0.35752806,  0.0870828 ,\n",
       "         -0.0594529 ,  0.47734952, -0.34525296, -0.65185064,  1.0365143 ,\n",
       "         -0.11775881],\n",
       "        [-0.32834694, -0.06902205, -0.6560333 ,  0.0993849 ,  0.13234404,\n",
       "         -0.27660304,  1.3147821 , -1.2347711 ,  0.27415082, -0.3198847 ,\n",
       "         -0.14309634],\n",
       "        [ 0.76310295,  0.09412502, -0.25559476, -0.02233818, -0.580896  ,\n",
       "          0.0306883 ,  0.06942496,  0.09586983, -0.14414419,  0.20367251,\n",
       "          0.2150724 ],\n",
       "        [ 0.07182676, -0.9683985 , -0.44583845,  0.6043232 ,  0.17822002,\n",
       "         -0.65765506,  0.3232948 , -0.15589844,  0.49479792,  0.3314617 ,\n",
       "          1.0195564 ],\n",
       "        [ 0.32052618, -0.00354925,  0.02527912, -0.09059878,  0.0807763 ,\n",
       "         -0.12652256, -0.04138004,  0.19443722, -0.1672852 , -0.3045641 ,\n",
       "          0.08848549],\n",
       "        [ 0.15825896,  0.08928445, -0.14325228, -0.33181986, -0.11960782,\n",
       "         -0.3487078 , -0.06807963,  0.25233865, -0.9465168 ,  0.30357128,\n",
       "          0.20860836],\n",
       "        [-0.2721995 , -0.2434338 , -0.0421447 ,  0.55015546, -0.47218063,\n",
       "          0.04419836,  0.21388784, -0.02809626,  0.33787015, -0.12722997,\n",
       "          0.01584439],\n",
       "        [ 0.04200394,  0.32774532,  0.6635644 ,  0.26302552,  0.24124122,\n",
       "          0.291023  ,  0.23494856,  0.16846143, -0.03029836,  0.20105095,\n",
       "          0.3012691 ]], dtype=float32),\n",
       " array([ 0.35311344,  0.06427401, -0.33212638,  0.21410985,  0.21487954,\n",
       "         0.69252294, -0.47365364,  0.33519286,  0.21260227, -0.13910615,\n",
       "         0.16655995], dtype=float32),\n",
       " array([[-0.00306171,  0.24335013,  0.27573308, -0.42541918,  0.38201687,\n",
       "         -0.4665747 ,  0.17626916],\n",
       "        [ 0.5190628 ,  0.00522881,  0.58088005,  0.5367031 ,  0.26137102,\n",
       "         -0.09715142, -0.97518265],\n",
       "        [ 0.52434087,  0.59936255, -0.4998823 ,  0.3197629 ,  0.25008512,\n",
       "          0.26123562, -0.03595441],\n",
       "        [ 0.4015045 ,  0.14763753,  0.3006425 , -0.13786797,  0.12513289,\n",
       "         -0.12157767,  0.464267  ],\n",
       "        [ 0.28344402,  0.69130373,  0.31248325, -0.13972902,  0.12212183,\n",
       "         -0.5142379 ,  0.34874868],\n",
       "        [ 0.6650481 , -0.37609717, -0.12038302, -0.78975797,  0.47451586,\n",
       "         -0.29968426,  0.2374335 ],\n",
       "        [-0.4479505 , -0.48663715, -0.37984917,  1.0197333 , -0.24157958,\n",
       "         -1.2546202 , -0.11361706],\n",
       "        [-0.3736073 , -0.28156573, -0.9857712 ,  0.07189837, -0.7873753 ,\n",
       "          0.7493332 , -0.17576471],\n",
       "        [ 0.39282885,  0.6519535 ,  0.36694393,  0.24406806,  0.4166463 ,\n",
       "          0.41097122, -0.8354945 ],\n",
       "        [ 0.22531866, -0.47723347,  0.4180579 , -0.20649171,  0.31747848,\n",
       "          0.54442805,  0.14812449],\n",
       "        [ 0.6003342 ,  0.40454218,  0.51613754, -0.9454472 , -0.00799554,\n",
       "         -0.25796434, -0.6528509 ]], dtype=float32),\n",
       " array([ 0.1810659 ,  0.1721166 ,  0.21137506, -0.05211623,  0.37472543,\n",
       "         0.19013552, -0.34092692], dtype=float32),\n",
       " array([[ 0.00301438,  0.05736576,  0.76071024,  0.01382976, -0.37001085,\n",
       "         -1.0803319 ],\n",
       "        [-0.36472443,  0.49257   ,  0.4484906 , -0.22721536, -0.47867838,\n",
       "          0.3334475 ],\n",
       "        [ 0.34425   , -0.7202076 ,  1.0997808 ,  0.14707538,  0.17143339,\n",
       "          0.34948215],\n",
       "        [ 1.1243942 ,  0.67187214, -0.3662288 , -0.3089185 ,  0.01788778,\n",
       "          0.09925845],\n",
       "        [ 0.1275573 ,  0.13481656,  0.81617683, -0.37824833, -0.2550192 ,\n",
       "         -0.25830168],\n",
       "        [ 0.57027406,  0.42873842, -0.89479756, -0.34981596, -0.28976983,\n",
       "          0.26595607],\n",
       "        [ 0.9497878 , -0.09442723, -0.2843295 , -0.65323997, -0.33818796,\n",
       "         -0.66926014]], dtype=float32),\n",
       " array([-0.19027077, -0.13996735,  0.23747535, -0.23682411, -0.14315201,\n",
       "        -0.11428077], dtype=float32),\n",
       " array([[ 0.84617144],\n",
       "        [ 0.68863803],\n",
       "        [-0.6283434 ],\n",
       "        [ 0.02517807],\n",
       "        [-0.07520497],\n",
       "        [ 0.8037456 ]], dtype=float32),\n",
       " array([-0.24183352], dtype=float32)]"
      ]
     },
     "execution_count": 146,
     "metadata": {},
     "output_type": "execute_result"
    }
   ],
   "source": [
    "classifier.get_weights()"
   ]
  },
  {
   "cell_type": "code",
   "execution_count": null,
   "metadata": {},
   "outputs": [],
   "source": []
  }
 ],
 "metadata": {
  "colab": {
   "name": "Untitled63.ipynb",
   "provenance": []
  },
  "kernelspec": {
   "display_name": "Python 3",
   "language": "python",
   "name": "python3"
  },
  "language_info": {
   "codemirror_mode": {
    "name": "ipython",
    "version": 3
   },
   "file_extension": ".py",
   "mimetype": "text/x-python",
   "name": "python",
   "nbconvert_exporter": "python",
   "pygments_lexer": "ipython3",
   "version": "3.8.5"
  }
 },
 "nbformat": 4,
 "nbformat_minor": 1
}
